{
 "cells": [
  {
   "cell_type": "code",
   "execution_count": 17,
   "metadata": {},
   "outputs": [],
   "source": [
    "import numpy as np\n",
    "#from keras.utils import to_categorical\n",
    "#import os\n",
    "import glob\n",
    "import cv2 \n",
    "import math\n",
    "\n",
    "from scipy.linalg import svd\n",
    "from numpy import linalg as LA\n",
    "\n",
    "import pandas as pd\n",
    "import numpy as np\n",
    "import matplotlib.pyplot as plt\n",
    "\n",
    "from sklearn.model_selection import train_test_split\n",
    "\n",
    "\n",
    "\n",
    "%matplotlib inline"
   ]
  },
  {
   "cell_type": "code",
   "execution_count": 18,
   "metadata": {},
   "outputs": [],
   "source": [
    "path = glob.glob(\"D:\\ML Dataset\\RGB_face_Aug/*.png\")"
   ]
  },
  {
   "cell_type": "code",
   "execution_count": 19,
   "metadata": {},
   "outputs": [],
   "source": [
    "X=[]\n",
    "count=0\n",
    "for img in path:\n",
    "    if \"RGB\" in img:\n",
    "        n = cv2.imread(img)\n",
    "        gray = cv2.cvtColor(n,cv2.COLOR_BGR2GRAY)\n",
    "        gray = cv2.resize(gray,(50,50))\n",
    "        X.append(gray)\n",
    "        count=count+1"
   ]
  },
  {
   "cell_type": "code",
   "execution_count": 20,
   "metadata": {},
   "outputs": [],
   "source": [
    "sizeImg = X[0].shape \n",
    "A = np.zeros((sizeImg[0]*sizeImg[1],len(X)))\n",
    "\n",
    "for i in range(0, len(X)):\n",
    "    tmp = (np.array(X[i]).reshape(-1))\n",
    "    A[:,i] = np.array(tmp)"
   ]
  },
  {
   "cell_type": "code",
   "execution_count": 21,
   "metadata": {},
   "outputs": [
    {
     "data": {
      "text/plain": [
       "(2500, 4980)"
      ]
     },
     "execution_count": 21,
     "metadata": {},
     "output_type": "execute_result"
    }
   ],
   "source": [
    "A.shape"
   ]
  },
  {
   "cell_type": "code",
   "execution_count": 22,
   "metadata": {},
   "outputs": [],
   "source": [
    "Y = np.zeros((len(X)))\n",
    "\n",
    "i = 0\n",
    "for img in path:\n",
    "    if \"RGB\" in img:\n",
    "        if \"_Anger_\" in img: \n",
    "            #print(row[\"filename\"])\n",
    "            Y[i]  = 0\n",
    "        elif \"_Disgust_\" in img:\n",
    "            Y[i]  = 1 \n",
    "        elif \"_Fear_\" in img:\n",
    "            Y[i]  = 2 \n",
    "        elif \"_Happy_\" in img:\n",
    "            Y[i]  = 3 \n",
    "        elif \"_Neutral_\" in img:\n",
    "            Y[i]  = 4 \n",
    "        elif \"_Surprise_\" in img:\n",
    "            Y[i]  = 5 \n",
    "        elif \"_Sad_\" in img:\n",
    "            Y[i]  = 6 \n",
    "        i = i+1"
   ]
  },
  {
   "cell_type": "code",
   "execution_count": 23,
   "metadata": {},
   "outputs": [
    {
     "data": {
      "text/plain": [
       "((4482, 2500), (498, 2500), (4482,), (498,))"
      ]
     },
     "execution_count": 23,
     "metadata": {},
     "output_type": "execute_result"
    }
   ],
   "source": [
    "A=A.T\n",
    "from sklearn.model_selection import train_test_split\n",
    "train_X,test_X,train_Y,test_Y = train_test_split(A, Y, test_size=0.1, random_state=13)\n",
    "train_X.shape,test_X.shape,train_Y.shape,test_Y.shape"
   ]
  },
  {
   "cell_type": "code",
   "execution_count": 24,
   "metadata": {},
   "outputs": [],
   "source": [
    "from sklearn.preprocessing import StandardScaler\n",
    "sc = StandardScaler()\n",
    "train_X = sc.fit_transform(train_X)\n",
    "test_X = sc.transform(test_X)\n"
   ]
  },
  {
   "cell_type": "code",
   "execution_count": 25,
   "metadata": {},
   "outputs": [
    {
     "data": {
      "text/plain": [
       "SVC(C=1.0, cache_size=200, class_weight=None, coef0=0.0,\n",
       "  decision_function_shape='ovr', degree=3, gamma='auto_deprecated',\n",
       "  kernel='linear', max_iter=-1, probability=False, random_state=0,\n",
       "  shrinking=True, tol=0.001, verbose=False)"
      ]
     },
     "execution_count": 25,
     "metadata": {},
     "output_type": "execute_result"
    }
   ],
   "source": [
    "# Fitting SVM to the Training set\n",
    "from sklearn.svm import SVC\n",
    "classifier = SVC(kernel = 'linear', random_state = 0)\n",
    "classifier.fit(train_X, train_Y)"
   ]
  },
  {
   "cell_type": "code",
   "execution_count": 26,
   "metadata": {},
   "outputs": [],
   "source": [
    "pred_Y = classifier.predict(test_X)\n",
    "test_Y = test_Y.tolist()"
   ]
  },
  {
   "cell_type": "code",
   "execution_count": 27,
   "metadata": {},
   "outputs": [
    {
     "data": {
      "text/plain": [
       "array([6., 1., 2., 4., 6., 3., 1., 1., 5., 5., 6., 6., 0., 2., 5., 5., 2.,\n",
       "       6., 3., 3., 6., 6., 6., 1., 5., 6., 0., 6., 2., 3., 1., 5., 4., 2.,\n",
       "       3., 1., 2., 4., 1., 6., 6., 2., 0., 4., 1., 4., 2., 5., 0., 2., 2.,\n",
       "       1., 6., 6., 0., 1., 2., 0., 3., 6., 0., 1., 3., 0., 6., 1., 5., 2.,\n",
       "       0., 2., 6., 4., 3., 5., 2., 4., 0., 5., 4., 3., 3., 5., 6., 0., 1.,\n",
       "       5., 3., 3., 5., 5., 2., 4., 2., 4., 6., 3., 4., 1., 5., 3., 1., 4.,\n",
       "       6., 2., 4., 4., 5., 5., 6., 0., 1., 2., 1., 5., 1., 6., 5., 5., 5.,\n",
       "       2., 0., 3., 0., 3., 1., 5., 1., 6., 3., 0., 4., 2., 4., 2., 3., 4.,\n",
       "       6., 4., 5., 0., 0., 0., 5., 2., 6., 0., 6., 2., 2., 0., 6., 6., 6.,\n",
       "       1., 1., 4., 0., 3., 2., 4., 4., 1., 4., 0., 2., 1., 6., 5., 6., 0.,\n",
       "       1., 0., 5., 6., 0., 4., 6., 0., 5., 6., 2., 5., 2., 2., 6., 5., 3.,\n",
       "       5., 5., 2., 4., 4., 6., 3., 1., 4., 4., 1., 3., 5., 4., 6., 0., 6.,\n",
       "       1., 4., 4., 3., 3., 4., 2., 4., 6., 0., 5., 5., 1., 2., 2., 4., 2.,\n",
       "       1., 2., 4., 3., 1., 6., 4., 0., 0., 0., 1., 1., 2., 6., 4., 3., 6.,\n",
       "       6., 1., 5., 0., 1., 4., 0., 5., 4., 6., 5., 5., 3., 1., 3., 5., 1.,\n",
       "       5., 1., 4., 3., 2., 5., 6., 2., 6., 2., 0., 1., 2., 5., 5., 1., 4.,\n",
       "       1., 3., 3., 0., 4., 5., 2., 3., 3., 0., 3., 2., 1., 6., 0., 5., 6.,\n",
       "       4., 0., 6., 4., 3., 0., 3., 0., 5., 0., 0., 1., 3., 2., 5., 3., 0.,\n",
       "       0., 3., 1., 2., 0., 5., 3., 5., 2., 0., 1., 4., 4., 2., 6., 6., 4.,\n",
       "       4., 5., 1., 6., 6., 1., 1., 6., 1., 6., 1., 6., 2., 0., 5., 4., 4.,\n",
       "       2., 3., 5., 3., 0., 0., 6., 3., 5., 3., 6., 0., 1., 6., 0., 2., 0.,\n",
       "       4., 0., 3., 5., 0., 4., 1., 2., 5., 4., 4., 5., 4., 5., 6., 3., 3.,\n",
       "       3., 1., 0., 6., 3., 4., 4., 6., 0., 1., 6., 1., 0., 1., 4., 5., 1.,\n",
       "       4., 6., 4., 1., 0., 1., 4., 3., 1., 4., 3., 2., 3., 6., 2., 6., 6.,\n",
       "       3., 0., 4., 4., 2., 0., 0., 5., 6., 6., 2., 0., 1., 6., 3., 4., 6.,\n",
       "       4., 6., 6., 6., 6., 3., 6., 4., 0., 4., 5., 5., 3., 3., 1., 4., 4.,\n",
       "       6., 4., 3., 2., 0., 6., 2., 5., 2., 5., 2., 1., 1., 3., 4., 2., 6.,\n",
       "       6., 5., 1., 6., 4., 5., 3., 0., 3., 0., 0., 1., 2., 5., 3., 4., 3.,\n",
       "       0., 6., 2., 0., 1., 2., 5., 1., 2., 0., 3., 5., 2., 0., 6., 0., 0.,\n",
       "       2., 6., 5., 4., 5.])"
      ]
     },
     "execution_count": 27,
     "metadata": {},
     "output_type": "execute_result"
    }
   ],
   "source": [
    "y_test_np = np.asarray(test_Y)\n",
    "y_test_np"
   ]
  },
  {
   "cell_type": "code",
   "execution_count": 28,
   "metadata": {},
   "outputs": [
    {
     "name": "stdout",
     "output_type": "stream",
     "text": [
      "[6. 1. 2. 4. 6. 3. 1. 1. 5. 5. 6. 6. 0. 2. 5. 5. 2. 3. 0. 3. 6. 6. 6. 0.\n",
      " 5. 6. 0. 6. 2. 3. 1. 5. 4. 2. 3. 1. 2. 4. 1. 6. 6. 0. 0. 4. 1. 4. 2. 5.\n",
      " 0. 4. 2. 1. 6. 6. 0. 1. 2. 0. 3. 6. 0. 1. 3. 0. 6. 1. 5. 2. 0. 2. 6. 4.\n",
      " 3. 2. 3. 4. 0. 5. 4. 3. 6. 5. 6. 0. 6. 5. 3. 3. 5. 1. 2. 4. 3. 4. 6. 3.\n",
      " 4. 1. 5. 3. 1. 4. 6. 2. 1. 4. 5. 5. 6. 0. 1. 2. 1. 5. 1. 0. 3. 5. 2. 2.\n",
      " 0. 3. 0. 3. 1. 5. 1. 6. 3. 0. 4. 2. 1. 2. 3. 4. 6. 1. 5. 0. 0. 0. 5. 2.\n",
      " 6. 0. 6. 2. 2. 6. 3. 6. 6. 1. 1. 4. 0. 3. 2. 4. 4. 1. 4. 0. 2. 1. 1. 5.\n",
      " 6. 1. 1. 0. 5. 6. 0. 4. 6. 0. 5. 6. 2. 5. 2. 2. 4. 5. 3. 5. 1. 2. 4. 4.\n",
      " 6. 3. 1. 4. 4. 1. 3. 5. 4. 6. 0. 6. 1. 4. 5. 3. 3. 4. 2. 4. 6. 0. 5. 5.\n",
      " 1. 2. 2. 4. 2. 1. 2. 4. 3. 1. 6. 4. 2. 0. 0. 1. 1. 5. 0. 4. 3. 6. 1. 1.\n",
      " 5. 0. 1. 4. 0. 5. 4. 6. 5. 5. 3. 1. 3. 5. 1. 5. 1. 4. 3. 2. 5. 6. 2. 6.\n",
      " 1. 0. 1. 2. 5. 5. 1. 4. 1. 3. 3. 1. 4. 5. 2. 0. 5. 0. 3. 2. 1. 6. 0. 5.\n",
      " 6. 4. 0. 6. 0. 3. 0. 3. 0. 5. 4. 0. 1. 2. 2. 5. 3. 1. 0. 3. 1. 2. 0. 5.\n",
      " 3. 3. 2. 0. 1. 4. 4. 2. 6. 6. 4. 4. 5. 1. 6. 6. 1. 1. 6. 1. 6. 1. 6. 5.\n",
      " 2. 5. 4. 4. 2. 2. 5. 3. 4. 0. 6. 3. 3. 3. 6. 0. 1. 6. 0. 2. 0. 4. 0. 3.\n",
      " 5. 0. 4. 1. 2. 5. 6. 1. 5. 4. 5. 6. 3. 3. 3. 1. 0. 1. 4. 4. 1. 6. 0. 1.\n",
      " 6. 1. 0. 1. 4. 5. 1. 4. 6. 4. 1. 0. 1. 4. 6. 1. 4. 3. 2. 3. 6. 2. 5. 6.\n",
      " 3. 4. 4. 4. 2. 0. 0. 5. 6. 0. 2. 0. 1. 6. 3. 5. 6. 4. 6. 4. 6. 6. 3. 1.\n",
      " 4. 6. 2. 5. 5. 3. 3. 1. 6. 4. 2. 4. 3. 2. 0. 6. 2. 5. 2. 5. 2. 1. 6. 3.\n",
      " 4. 2. 6. 6. 5. 1. 6. 4. 5. 4. 6. 3. 0. 0. 1. 2. 5. 3. 4. 3. 0. 6. 2. 0.\n",
      " 1. 2. 5. 0. 2. 0. 3. 5. 2. 0. 6. 0. 0. 2. 6. 5. 4. 6.]\n"
     ]
    }
   ],
   "source": [
    "print(pred_Y)"
   ]
  },
  {
   "cell_type": "code",
   "execution_count": 29,
   "metadata": {},
   "outputs": [
    {
     "name": "stdout",
     "output_type": "stream",
     "text": [
      "87.34939759036145\n"
     ]
    }
   ],
   "source": [
    "disc = y_test_np - pred_Y\n",
    "\n",
    "count = 0\n",
    "for i in disc:\n",
    "    if i == 0:\n",
    "        count += 1\n",
    "accuracy = ( (100 * count) / len(pred_Y))\n",
    "print(accuracy)"
   ]
  },
  {
   "cell_type": "code",
   "execution_count": 30,
   "metadata": {},
   "outputs": [
    {
     "name": "stdout",
     "output_type": "stream",
     "text": [
      "Found 435 correct labels\n"
     ]
    }
   ],
   "source": [
    "correct = np.where(pred_Y==test_Y)[0]\n",
    "print (\"Found %d correct labels\" % len(correct))"
   ]
  }
 ],
 "metadata": {
  "kernelspec": {
   "display_name": "Python 3",
   "language": "python",
   "name": "python3"
  },
  "language_info": {
   "codemirror_mode": {
    "name": "ipython",
    "version": 3
   },
   "file_extension": ".py",
   "mimetype": "text/x-python",
   "name": "python",
   "nbconvert_exporter": "python",
   "pygments_lexer": "ipython3",
   "version": "3.7.1"
  }
 },
 "nbformat": 4,
 "nbformat_minor": 2
}
