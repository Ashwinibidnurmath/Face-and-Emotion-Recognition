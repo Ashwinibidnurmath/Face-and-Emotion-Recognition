{
 "cells": [
  {
   "cell_type": "code",
   "execution_count": 1,
   "metadata": {
    "colab": {},
    "colab_type": "code",
    "id": "eeRyej25Eo0p"
   },
   "outputs": [
    {
     "name": "stderr",
     "output_type": "stream",
     "text": [
      "Using TensorFlow backend.\n"
     ]
    }
   ],
   "source": [
    "import numpy as np\n",
    "from keras.utils import to_categorical\n",
    "\n",
    "import glob\n",
    "import cv2 \n",
    "import math\n",
    "\n",
    "import face_recognition as fr\n",
    "\n",
    "from scipy.linalg import svd\n",
    "from numpy import linalg as LA\n",
    "\n",
    "import pandas as pd\n",
    "import numpy as np\n",
    "import matplotlib.pyplot as plt\n",
    "\n",
    "from sklearn.model_selection import train_test_split\n",
    "\n",
    "import os\n",
    "\n",
    "%matplotlib inline"
   ]
  },
  {
   "cell_type": "code",
   "execution_count": 2,
   "metadata": {
    "colab": {
     "base_uri": "https://localhost:8080/",
     "height": 52
    },
    "colab_type": "code",
    "id": "hzIeyNDyEo2H",
    "outputId": "ad8b84da-82bd-42e3-e5a4-f81935df51d2"
   },
   "outputs": [],
   "source": [
    "dim_img = [50,50]\n",
    "\n",
    "\n"
   ]
  },
  {
   "cell_type": "code",
   "execution_count": 3,
   "metadata": {
    "colab": {
     "base_uri": "https://localhost:8080/",
     "height": 34
    },
    "colab_type": "code",
    "id": "5ZudJjrREo-o",
    "outputId": "74766ba1-2a64-4124-badd-ef580c8e8a13"
   },
   "outputs": [],
   "source": [
    "path = glob.glob(\"D:/ML Dataset/RGB_face_Aug/*.png\")\n",
    "\n",
    "# Rading dataset\n",
    "X = []\n",
    "\n",
    "    \n",
    "for img in path:\n",
    "    if \"RGB\" in img:\n",
    "        n = cv2.imread(img)\n",
    "        gray = cv2.cvtColor(n,cv2.COLOR_BGR2GRAY)\n",
    "        gray = cv2.resize(gray,(dim_img[0],dim_img[1]))\n",
    "        X.append(gray)\n",
    "\n",
    "\n",
    "\n"
   ]
  },
  {
   "cell_type": "code",
   "execution_count": 4,
   "metadata": {},
   "outputs": [],
   "source": [
    "n = cv2.imread(path[0])\n",
    "\n",
    "#plt.imshow(n)\n",
    "\n",
    "n.dtype\n",
    "gray = cv2.cvtColor(n,cv2.COLOR_BGR2GRAY)"
   ]
  },
  {
   "cell_type": "code",
   "execution_count": 5,
   "metadata": {},
   "outputs": [],
   "source": [
    "Y = np.zeros((len(X)))\n",
    "i=0\n",
    "for img in path:\n",
    "    if \"RGB\" in img:\n",
    "        if \"_Male_\" in img: \n",
    "            #print(row[\"filename\"])\n",
    "            Y[i]  = 0\n",
    "        else:\n",
    "            Y[i]  = 1 \n",
    "        i = i+1"
   ]
  },
  {
   "cell_type": "code",
   "execution_count": 6,
   "metadata": {},
   "outputs": [],
   "source": [
    "# Convert List dataset into array\n",
    "X = np.array(X)"
   ]
  },
  {
   "cell_type": "code",
   "execution_count": 7,
   "metadata": {},
   "outputs": [
    {
     "data": {
      "text/plain": [
       "(4980, 4980)"
      ]
     },
     "execution_count": 7,
     "metadata": {},
     "output_type": "execute_result"
    }
   ],
   "source": [
    "len(X),len(Y)"
   ]
  },
  {
   "cell_type": "code",
   "execution_count": 8,
   "metadata": {},
   "outputs": [],
   "source": [
    "# # Reading Annotation file of Gender\n",
    "# Gender = pd.read_csv('D:/ML_New/Annotations/Train_Gender.txt', sep=\" \", header=None)\n",
    "# Gender.columns = [\"filename\", \"gender\"]\n"
   ]
  },
  {
   "cell_type": "code",
   "execution_count": 9,
   "metadata": {},
   "outputs": [],
   "source": [
    "\n",
    "    \n",
    "#Y = np.matrix(Gender).T"
   ]
  },
  {
   "cell_type": "code",
   "execution_count": 10,
   "metadata": {},
   "outputs": [],
   "source": [
    "Y_one_hot = to_categorical(Y)"
   ]
  },
  {
   "cell_type": "code",
   "execution_count": 11,
   "metadata": {},
   "outputs": [
    {
     "data": {
      "text/plain": [
       "(array([[1., 0.],\n",
       "        [1., 0.],\n",
       "        [1., 0.],\n",
       "        ...,\n",
       "        [1., 0.],\n",
       "        [1., 0.],\n",
       "        [1., 0.]], dtype=float32), array([0., 0., 0., ..., 0., 0., 0.]))"
      ]
     },
     "execution_count": 11,
     "metadata": {},
     "output_type": "execute_result"
    }
   ],
   "source": [
    "Y_one_hot,Y"
   ]
  },
  {
   "cell_type": "code",
   "execution_count": 12,
   "metadata": {},
   "outputs": [
    {
     "data": {
      "text/plain": [
       "(4980, 50, 50, 1)"
      ]
     },
     "execution_count": 12,
     "metadata": {},
     "output_type": "execute_result"
    }
   ],
   "source": [
    "X = X.astype('float32')\n",
    "X = X / 255\n",
    "\n",
    "X = X.reshape(-1,dim_img[0],dim_img[1], 1)\n",
    "X.shape"
   ]
  },
  {
   "cell_type": "code",
   "execution_count": 13,
   "metadata": {},
   "outputs": [
    {
     "data": {
      "text/plain": [
       "((4482, 50, 50, 1), (498, 50, 50, 1), (4482, 2), (498, 2))"
      ]
     },
     "execution_count": 13,
     "metadata": {},
     "output_type": "execute_result"
    }
   ],
   "source": [
    "from sklearn.model_selection import train_test_split\n",
    "train_X,test_X,train_Y,test_Y = train_test_split(X, Y_one_hot, test_size=0.1, random_state=13)\n",
    "train_X.shape,test_X.shape,train_Y.shape,test_Y.shape"
   ]
  },
  {
   "cell_type": "code",
   "execution_count": 14,
   "metadata": {},
   "outputs": [
    {
     "data": {
      "text/plain": [
       "((3809, 50, 50, 1), (673, 50, 50, 1), (3809, 2), (673, 2))"
      ]
     },
     "execution_count": 14,
     "metadata": {},
     "output_type": "execute_result"
    }
   ],
   "source": [
    "train_X,valid_X,train_Y,valid_Y = train_test_split(train_X, train_Y, test_size=0.15, random_state=13)\n",
    "train_X.shape,valid_X.shape,train_Y.shape,valid_Y.shape"
   ]
  },
  {
   "cell_type": "code",
   "execution_count": 15,
   "metadata": {},
   "outputs": [],
   "source": [
    "# data = pd.read_csv('D:/ML Dataset/Annotations/Train_Roll_Number.txt', sep=\" \", header=None)\n",
    "# data1 = pd.read_csv('D:/ML Dataset/Annotations/Train_RGB_Sketch.txt', sep=\" \", header=None)\n",
    "# data2 = pd.read_csv('D:/ML Dataset/Annotations/Train_Gender.txt', sep=\" \", header=None)\n",
    "# data3 = pd.read_csv('D:/ML Dataset/Annotations/Train_Expression.txt', sep=\" \", header=None)\n"
   ]
  },
  {
   "cell_type": "code",
   "execution_count": 16,
   "metadata": {},
   "outputs": [],
   "source": [
    "\n",
    "# data.columns = [\"filename\", \"subject\"]\n",
    "# data1.columns = [\"filename\", \"sketch\"]\n",
    "# data2.columns = [\"filename\", \"gender\"]\n",
    "# data3.columns = [\"filename\", \"expression\"]\n"
   ]
  },
  {
   "cell_type": "code",
   "execution_count": null,
   "metadata": {},
   "outputs": [],
   "source": []
  },
  {
   "cell_type": "markdown",
   "metadata": {
    "colab_type": "text",
    "id": "NXzQRfYkz3-m"
   },
   "source": [
    "# **Model the Data**"
   ]
  },
  {
   "cell_type": "code",
   "execution_count": 45,
   "metadata": {
    "colab": {},
    "colab_type": "code",
    "id": "9hTXDZ8nGR7j"
   },
   "outputs": [],
   "source": [
    "import keras\n",
    "from keras.models import Sequential,Input,Model\n",
    "from keras.layers import Dense, Dropout, Flatten\n",
    "from keras.layers import Conv2D, MaxPooling2D\n",
    "from keras.layers.normalization import BatchNormalization\n",
    "from keras.layers.advanced_activations import LeakyReLU"
   ]
  },
  {
   "cell_type": "code",
   "execution_count": 46,
   "metadata": {},
   "outputs": [],
   "source": [
    "batch_size = 120\n",
    "epochs = 15\n",
    "num_classes = 2"
   ]
  },
  {
   "cell_type": "code",
   "execution_count": 47,
   "metadata": {},
   "outputs": [],
   "source": [
    "model = Sequential()\n",
    "model.add(Conv2D(32, kernel_size=(3, 3),activation='linear',padding='valid',input_shape=(dim_img[0],dim_img[1],1)))\n",
    "#model.add(LeakyReLU(alpha=0.1))\n",
    "model.add(MaxPooling2D((2, 2),padding='valid'))\n",
    "model.add(Dropout(0.25))\n",
    "model.add(Conv2D(64, (3, 3), activation='linear',padding='valid'))\n",
    "#model.add(LeakyReLU(alpha=0.1))\n",
    "model.add(MaxPooling2D(pool_size=(2, 2),padding='valid'))\n",
    "model.add(Dropout(0.25))\n",
    "model.add(Conv2D(128, (3, 3), activation='linear',padding='valid'))\n",
    "#model.add(LeakyReLU(alpha=0.1))                  \n",
    "model.add(MaxPooling2D(pool_size=(2, 2),padding='valid'))\n",
    "model.add(Dropout(0.4))\n",
    "\n",
    "model.add(Flatten())\n",
    "model.add(Dense(2048, activation='linear'))\n",
    "#model.add(LeakyReLU(alpha=0.1))           \n",
    "model.add(Dropout(0.3))\n",
    "model.add(Dense(128, activation='linear'))\n",
    "#model.add(LeakyReLU(alpha=0.1))           \n",
    "model.add(Dropout(0.3))\n",
    "model.add(Dense(32, activation='linear'))\n",
    "#model.add(LeakyReLU(alpha=0.1))           \n",
    "model.add(Dropout(0.3))\n",
    "model.add(Dense(num_classes, activation='softmax'))"
   ]
  },
  {
   "cell_type": "code",
   "execution_count": 48,
   "metadata": {},
   "outputs": [
    {
     "name": "stdout",
     "output_type": "stream",
     "text": [
      "_________________________________________________________________\n",
      "Layer (type)                 Output Shape              Param #   \n",
      "=================================================================\n",
      "conv2d_7 (Conv2D)            (None, 48, 48, 32)        320       \n",
      "_________________________________________________________________\n",
      "max_pooling2d_7 (MaxPooling2 (None, 24, 24, 32)        0         \n",
      "_________________________________________________________________\n",
      "dropout_15 (Dropout)         (None, 24, 24, 32)        0         \n",
      "_________________________________________________________________\n",
      "conv2d_8 (Conv2D)            (None, 22, 22, 64)        18496     \n",
      "_________________________________________________________________\n",
      "max_pooling2d_8 (MaxPooling2 (None, 11, 11, 64)        0         \n",
      "_________________________________________________________________\n",
      "dropout_16 (Dropout)         (None, 11, 11, 64)        0         \n",
      "_________________________________________________________________\n",
      "conv2d_9 (Conv2D)            (None, 9, 9, 128)         73856     \n",
      "_________________________________________________________________\n",
      "max_pooling2d_9 (MaxPooling2 (None, 4, 4, 128)         0         \n",
      "_________________________________________________________________\n",
      "dropout_17 (Dropout)         (None, 4, 4, 128)         0         \n",
      "_________________________________________________________________\n",
      "flatten_3 (Flatten)          (None, 2048)              0         \n",
      "_________________________________________________________________\n",
      "dense_11 (Dense)             (None, 2048)              4196352   \n",
      "_________________________________________________________________\n",
      "dropout_18 (Dropout)         (None, 2048)              0         \n",
      "_________________________________________________________________\n",
      "dense_12 (Dense)             (None, 128)               262272    \n",
      "_________________________________________________________________\n",
      "dropout_19 (Dropout)         (None, 128)               0         \n",
      "_________________________________________________________________\n",
      "dense_13 (Dense)             (None, 32)                4128      \n",
      "_________________________________________________________________\n",
      "dropout_20 (Dropout)         (None, 32)                0         \n",
      "_________________________________________________________________\n",
      "dense_14 (Dense)             (None, 2)                 66        \n",
      "=================================================================\n",
      "Total params: 4,555,490\n",
      "Trainable params: 4,555,490\n",
      "Non-trainable params: 0\n",
      "_________________________________________________________________\n"
     ]
    }
   ],
   "source": [
    "model.summary()"
   ]
  },
  {
   "cell_type": "code",
   "execution_count": 49,
   "metadata": {},
   "outputs": [],
   "source": [
    "model.compile(loss=keras.losses.categorical_crossentropy, optimizer=keras.optimizers.Adam(),metrics=['accuracy'])"
   ]
  },
  {
   "cell_type": "code",
   "execution_count": null,
   "metadata": {},
   "outputs": [],
   "source": []
  },
  {
   "cell_type": "code",
   "execution_count": null,
   "metadata": {},
   "outputs": [],
   "source": []
  },
  {
   "cell_type": "code",
   "execution_count": 50,
   "metadata": {},
   "outputs": [
    {
     "name": "stdout",
     "output_type": "stream",
     "text": [
      "Train on 3809 samples, validate on 673 samples\n",
      "Epoch 1/15\n",
      "3809/3809 [==============================] - 31s 8ms/step - loss: 0.7969 - acc: 0.7073 - val_loss: 0.4576 - val_acc: 0.8024\n",
      "Epoch 2/15\n",
      "3809/3809 [==============================] - 29s 8ms/step - loss: 0.4115 - acc: 0.8438 - val_loss: 0.4446 - val_acc: 0.7890\n",
      "Epoch 3/15\n",
      "3809/3809 [==============================] - 29s 8ms/step - loss: 0.3538 - acc: 0.8679 - val_loss: 0.3104 - val_acc: 0.8767\n",
      "Epoch 4/15\n",
      "3809/3809 [==============================] - 29s 8ms/step - loss: 0.3023 - acc: 0.8892 - val_loss: 0.2555 - val_acc: 0.9034\n",
      "Epoch 5/15\n",
      "3809/3809 [==============================] - 29s 8ms/step - loss: 0.2680 - acc: 0.8937 - val_loss: 0.2109 - val_acc: 0.9183\n",
      "Epoch 6/15\n",
      "3809/3809 [==============================] - 29s 8ms/step - loss: 0.2287 - acc: 0.9084 - val_loss: 0.1655 - val_acc: 0.9331\n",
      "Epoch 7/15\n",
      "3809/3809 [==============================] - 29s 8ms/step - loss: 0.1846 - acc: 0.9294 - val_loss: 0.1713 - val_acc: 0.9435\n",
      "Epoch 8/15\n",
      "3809/3809 [==============================] - 29s 8ms/step - loss: 0.1617 - acc: 0.9362 - val_loss: 0.2018 - val_acc: 0.9272\n",
      "Epoch 9/15\n",
      "3809/3809 [==============================] - 29s 8ms/step - loss: 0.1286 - acc: 0.9480 - val_loss: 0.0669 - val_acc: 0.9718\n",
      "Epoch 10/15\n",
      "3809/3809 [==============================] - 29s 8ms/step - loss: 0.1237 - acc: 0.9522 - val_loss: 0.1256 - val_acc: 0.9554\n",
      "Epoch 11/15\n",
      "3809/3809 [==============================] - 29s 8ms/step - loss: 0.0957 - acc: 0.9672 - val_loss: 0.1079 - val_acc: 0.9525\n",
      "Epoch 12/15\n",
      "3809/3809 [==============================] - 28s 7ms/step - loss: 0.0958 - acc: 0.9646 - val_loss: 0.1219 - val_acc: 0.9539\n",
      "Epoch 13/15\n",
      "3809/3809 [==============================] - 28s 7ms/step - loss: 0.0737 - acc: 0.9706 - val_loss: 0.0386 - val_acc: 0.9807\n",
      "Epoch 14/15\n",
      "3809/3809 [==============================] - 28s 7ms/step - loss: 0.0660 - acc: 0.9751 - val_loss: 0.0351 - val_acc: 0.9866\n",
      "Epoch 15/15\n",
      "3809/3809 [==============================] - 28s 7ms/step - loss: 0.0544 - acc: 0.9829 - val_loss: 0.0590 - val_acc: 0.9747\n"
     ]
    }
   ],
   "source": [
    "train_dropout = model.fit(train_X, train_Y, batch_size=batch_size,epochs=epochs,verbose=1,validation_data=(valid_X, valid_Y))"
   ]
  },
  {
   "cell_type": "code",
   "execution_count": null,
   "metadata": {},
   "outputs": [],
   "source": []
  },
  {
   "cell_type": "code",
   "execution_count": 51,
   "metadata": {},
   "outputs": [],
   "source": [
    "model.save(\"CNN_Gender_RGB.h5\")"
   ]
  },
  {
   "cell_type": "code",
   "execution_count": null,
   "metadata": {},
   "outputs": [],
   "source": [
    "\n",
    "\n"
   ]
  },
  {
   "cell_type": "code",
   "execution_count": 52,
   "metadata": {},
   "outputs": [
    {
     "name": "stdout",
     "output_type": "stream",
     "text": [
      "498/498 [==============================] - 1s 2ms/step\n"
     ]
    }
   ],
   "source": [
    "test_eval = model.evaluate(test_X, test_Y, verbose=1)"
   ]
  },
  {
   "cell_type": "code",
   "execution_count": 53,
   "metadata": {},
   "outputs": [
    {
     "name": "stdout",
     "output_type": "stream",
     "text": [
      "Test loss: 0.028733764286994576\n",
      "Test accuracy: 0.9859437751004017\n"
     ]
    }
   ],
   "source": [
    "print('Test loss:', test_eval[0])\n",
    "print('Test accuracy:', test_eval[1])"
   ]
  },
  {
   "cell_type": "code",
   "execution_count": 54,
   "metadata": {
    "scrolled": true
   },
   "outputs": [
    {
     "data": {
      "image/png": "[encoded data removed]",
      "text/plain": [
       "<Figure size 432x288 with 1 Axes>"
      ]
     },
     "metadata": {
      "needs_background": "light"
     },
     "output_type": "display_data"
    },
    {
     "data": {
      "image/png": "[encoded data removed]",
      "text/plain": [
       "<Figure size 432x288 with 1 Axes>"
      ]
     },
     "metadata": {
      "needs_background": "light"
     },
     "output_type": "display_data"
    }
   ],
   "source": [
    "accuracy = train_dropout.history['acc']\n",
    "val_accuracy = train_dropout.history['val_acc']\n",
    "loss = train_dropout.history['loss']\n",
    "val_loss = train_dropout.history['val_loss']\n",
    "epochs = range(len(accuracy))\n",
    "plt.plot(epochs, accuracy, 'bo', label='Training accuracy')\n",
    "plt.plot(epochs, val_accuracy, 'b', label='Validation accuracy')\n",
    "plt.title('Training and validation accuracy')\n",
    "plt.legend()\n",
    "plt.figure()\n",
    "plt.plot(epochs, loss, 'bo', label='Training loss')\n",
    "plt.plot(epochs, val_loss, 'b', label='Validation loss')\n",
    "plt.title('Training and validation loss')\n",
    "plt.legend()\n",
    "plt.show()"
   ]
  },
  {
   "cell_type": "code",
   "execution_count": null,
   "metadata": {},
   "outputs": [],
   "source": []
  },
  {
   "cell_type": "code",
   "execution_count": 55,
   "metadata": {},
   "outputs": [],
   "source": [
    "predicted_classes = model.predict(test_X)"
   ]
  },
  {
   "cell_type": "code",
   "execution_count": 56,
   "metadata": {},
   "outputs": [],
   "source": [
    "predicted_classes = np.argmax(np.round(predicted_classes),axis=1)"
   ]
  },
  {
   "cell_type": "code",
   "execution_count": 57,
   "metadata": {},
   "outputs": [],
   "source": [
    "test_Y_Pre = np.argmax(np.round(test_Y),axis=1)"
   ]
  },
  {
   "cell_type": "code",
   "execution_count": 58,
   "metadata": {},
   "outputs": [
    {
     "data": {
      "text/plain": [
       "((498,), (498,))"
      ]
     },
     "execution_count": 58,
     "metadata": {},
     "output_type": "execute_result"
    }
   ],
   "source": [
    "predicted_classes.shape, test_Y_Pre.shape"
   ]
  },
  {
   "cell_type": "code",
   "execution_count": 59,
   "metadata": {
    "scrolled": true
   },
   "outputs": [
    {
     "name": "stdout",
     "output_type": "stream",
     "text": [
      "Found 491 correct labels\n"
     ]
    },
    {
     "data": {
      "image/png": "[encoded data removed]",
      "text/plain": [
       "<Figure size 432x288 with 9 Axes>"
      ]
     },
     "metadata": {
      "needs_background": "light"
     },
     "output_type": "display_data"
    }
   ],
   "source": [
    "correct = np.where(predicted_classes==test_Y_Pre)[0]\n",
    "print (\"Found %d correct labels\" % len(correct))\n",
    "for i, correct in enumerate(correct[:9]):\n",
    "    plt.subplot(3,3,i+1)\n",
    "    plt.imshow(test_X[correct].reshape(dim_img[0],dim_img[1]), cmap='gray', interpolation='none')\n",
    "    plt.title(\"Predicted {}, Class {} \".format(predicted_classes[correct], np.argmax(test_Y[correct])))\n",
    "    "
   ]
  },
  {
   "cell_type": "code",
   "execution_count": 60,
   "metadata": {},
   "outputs": [
    {
     "name": "stdout",
     "output_type": "stream",
     "text": [
      "Found 7 incorrect labels\n"
     ]
    },
    {
     "data": {
      "image/png": "[encoded data removed]",
      "text/plain": [
       "<Figure size 432x288 with 7 Axes>"
      ]
     },
     "metadata": {
      "needs_background": "light"
     },
     "output_type": "display_data"
    }
   ],
   "source": [
    "incorrect = np.where(predicted_classes!=test_Y_Pre)[0]\n",
    "print (\"Found %d incorrect labels\" % len(incorrect))\n",
    "for i, incorrect in enumerate(incorrect[:9]):\n",
    "    plt.subplot(3,3,i+1)\n",
    "    plt.imshow(test_X[incorrect].reshape(dim_img[0],dim_img[1]), cmap='gray', interpolation='none')\n",
    "    plt.title(\"Predicted {}, Class {}\".format(predicted_classes[incorrect], np.argmax(test_Y[incorrect])))\n",
    "    "
   ]
  },
  {
   "cell_type": "code",
   "execution_count": 61,
   "metadata": {},
   "outputs": [
    {
     "name": "stdout",
     "output_type": "stream",
     "text": [
      "              precision    recall  f1-score   support\n",
      "\n",
      "     Class 0       1.00      0.98      0.99       339\n",
      "     Class 1       0.96      1.00      0.98       159\n",
      "\n",
      "   micro avg       0.99      0.99      0.99       498\n",
      "   macro avg       0.98      0.99      0.98       498\n",
      "weighted avg       0.99      0.99      0.99       498\n",
      "\n"
     ]
    }
   ],
   "source": [
    "from sklearn.metrics import classification_report\n",
    "target_names = [\"Class {}\".format(i) for i in range(num_classes)]\n",
    "print(classification_report(test_Y_Pre, predicted_classes, target_names=target_names))\n",
    " "
   ]
  },
  {
   "cell_type": "code",
   "execution_count": null,
   "metadata": {},
   "outputs": [],
   "source": []
  },
  {
   "cell_type": "markdown",
   "metadata": {},
   "source": [
    "# Real Time"
   ]
  },
  {
   "cell_type": "code",
   "execution_count": null,
   "metadata": {},
   "outputs": [],
   "source": []
  },
  {
   "cell_type": "code",
   "execution_count": 62,
   "metadata": {},
   "outputs": [],
   "source": [
    "\n",
    "# import cv2\n",
    "# import numpy as np\n",
    "# from matplotlib import pyplot as plt\n",
    "\n",
    "  \n",
    "# # capture frames from a camera \n",
    "# cap = cv2.VideoCapture(0)    \n",
    "  \n",
    "# # loop runs if capturing has been initialized \n",
    "# while(1): \n",
    "  \n",
    "#     # reads frames from a camera \n",
    "#     ret, frame = cap.read() \n",
    "  \n",
    "#     # converting BGR to HSV \n",
    "#     hsv = cv2.cvtColor(frame, cv2.COLOR_BGR2HSV) \n",
    "      \n",
    "#     # define range of red color in HSV \n",
    "#     lower_red = np.array([30,150,50]) \n",
    "#     upper_red = np.array([255,255,180]) \n",
    "      \n",
    "#     # create a red HSV colour boundary and  \n",
    "#     # threshold HSV image \n",
    "#     mask = cv2.inRange(hsv, lower_red, upper_red) \n",
    "  \n",
    "#     # Bitwise-AND mask and original image \n",
    "#     res = cv2.bitwise_and(frame,frame, mask= mask) \n",
    "  \n",
    "#     # Display an original image \n",
    "#     cv2.imshow('Original',np.fliplr(frame)) \n",
    "  \n",
    "#     # finds edges in the input image image and \n",
    "#     # marks them in the output map edges \n",
    "#     edges = cv2.Canny(frame,100,200) \n",
    "  \n",
    "#     # Display edges in a frame \n",
    "#     cv2.imshow('Edges',np.fliplr(edges)) \n",
    "  \n",
    "#     # Wait for Esc key to stop \n",
    "#     k = cv2.waitKey(5) & 0xFF\n",
    "#     if k == 27: \n",
    "#         break\n",
    "  \n",
    "  \n",
    " \n",
    "# cap.release() \n",
    "  \n",
    "# # De-allocate any associated memory usage \n",
    "# cv2.destroyAllWindows()    "
   ]
  },
  {
   "cell_type": "code",
   "execution_count": 63,
   "metadata": {},
   "outputs": [],
   "source": [
    "\n",
    "# import cv2\n",
    "# import numpy as np\n",
    "# from matplotlib import pyplot as plt\n",
    "\n",
    "# cascPath = \"haarcascade_frontalface_default.xml\"\n",
    "# faceCascade = cv2.CascadeClassifier(cascPath)\n",
    "\n",
    "\n",
    "# # capture frames from a camera \n",
    "# cap = cv2.VideoCapture(0)    \n",
    "  \n",
    "# # loop runs if capturing has been initialized \n",
    "# while(1): \n",
    "  \n",
    "#     # reads frames from a camera \n",
    "#     ret, frame = cap.read() \n",
    "  \n",
    "#     # converting BGR to HSV \n",
    "#     hsv = cv2.cvtColor(frame, cv2.COLOR_BGR2HSV) \n",
    "      \n",
    "#     # define range of red color in HSV \n",
    "#     lower_red = np.array([30,150,50]) \n",
    "#     upper_red = np.array([255,255,180]) \n",
    "      \n",
    "#     # create a red HSV colour boundary and  \n",
    "#     # threshold HSV image \n",
    "#     mask = cv2.inRange(hsv, lower_red, upper_red) \n",
    "  \n",
    "#     # Bitwise-AND mask and original image \n",
    "#     res = cv2.bitwise_and(frame,frame, mask= mask) \n",
    "  \n",
    "\n",
    "#     cv2.imshow('Original',frame) \n",
    "    \n",
    "#     # Detect faces in the image\n",
    "#     faces = faceCascade.detectMultiScale(\n",
    "#         frame,\n",
    "#         scaleFactor=1.2,\n",
    "#         minNeighbors=5,\n",
    "#     )\n",
    "\n",
    "    \n",
    "#     ax = list(range(x,x+w))\n",
    "#     ay = list(range(y,y+h))\n",
    "#     img = frame[np.ix_(ay,ax)]\n",
    "\n",
    "    \n",
    "#     if len(faces) == 1:\n",
    "\n",
    "        \n",
    "#         for (x, y, w, h) in faces:\n",
    "#             cv2.rectangle(frame, (x, y), (x+w, y+h), (0, 0, 255), 5)\n",
    "\n",
    "\n",
    "#         img = cv2.cvtColor(img,cv2.COLOR_BGR2GRAY)\n",
    "#         img = cv2.resize(img,(dim_img[0],dim_img[1]))\n",
    "\n",
    "#         test_X = img.astype('float32')\n",
    "#         test_X = test_X / 255\n",
    "#         test_X = test_X.reshape(-1,dim_img[0],dim_img[1], 1)\n",
    "\n",
    "#         predicted_classes = model.predict(test_X)\n",
    "#         predicted_classes = np.argmax(np.round(predicted_classes),axis=1)\n",
    "\n",
    "\n",
    "#         if predicted_classes==0: \n",
    "#             cv2.putText(frame,\"Male\",(x,y),cv2.FONT_HERSHEY_SIMPLEX,3,(0,0,255),2)\n",
    "#         else:\n",
    "#             cv2.putText(frame,\"Female\",(x,y),cv2.FONT_HERSHEY_SIMPLEX,3,(0,0,255),2)\n",
    "\n",
    "\n",
    "#         # Display an original image \n",
    "#         cv2.imshow('Original',frame) \n",
    "\n",
    "    \n",
    "#         # Wait for Esc key to stop \n",
    "#         k = cv2.waitKey(5) & 0xFF\n",
    "#         if k == 27: \n",
    "#             break\n",
    "  \n",
    "  \n",
    "\n",
    "# cap.release() \n",
    "  \n",
    "# # De-allocate any associated memory usage \n",
    "# cv2.destroyAllWindows()    "
   ]
  },
  {
   "cell_type": "code",
   "execution_count": 64,
   "metadata": {},
   "outputs": [],
   "source": [
    "\n",
    "\n",
    "# import cv2\n",
    "# import numpy as np\n",
    "# from matplotlib import pyplot as plt\n",
    "\n",
    "\n",
    "# hogFaceDetector = dlib.get_frontal_face_detector()\n",
    "# width = dim_img[0]\n",
    "# height =dim_img[1]\n",
    "\n",
    "\n",
    "\n",
    "# # capture frames from a camera \n",
    "# cap = cv2.VideoCapture(0)    \n",
    "  \n",
    "# loop runs if capturing has been initialized \n",
    "# while(1): \n",
    "  \n",
    "#     # reads frames from a camera \n",
    "#     ret, frame = cap.read()   \n",
    "#     # converting BGR to HSV \n",
    "#     hsv = cv2.cvtColor(frame, cv2.COLOR_BGR2HSV) \n",
    "#     # define range of red color in HSV \n",
    "#     lower_red = np.array([30,150,50]) \n",
    "#     upper_red = np.array([255,255,180]) \n",
    "#     # create a red HSV colour boundary and  \n",
    "#     # threshold HSV image \n",
    "#     mask = cv2.inRange(hsv, lower_red, upper_red) \n",
    "#     # Bitwise-AND mask and original image \n",
    "#     res = cv2.bitwise_and(frame,frame, mask= mask) \n",
    "  \n",
    "    \n",
    "#     faceRects = hogFaceDetector(frame, 0)\n",
    "#     for faceRect in faceRects:\n",
    "#         x1 = faceRect.left()\n",
    "#         y1 = faceRect.top()\n",
    "#         x2 = faceRect.right()\n",
    "#         y2 = faceRect.bottom()\n",
    "#     img = frame[y1:y2,x1:x2]\n",
    "#     img = cv2.cvtColor(img,cv2.COLOR_BGR2GRAY)\n",
    "#     img = cv2.resize(img,(height,width))\n",
    "    \n",
    "\n",
    "#     test_X = img.astype('float32')\n",
    "#     test_X = test_X / 255\n",
    "#     test_X = test_X.reshape(-1,dim_img[0],dim_img[1], 1)\n",
    " \n",
    "#     predicted_classes = model.predict(test_X)\n",
    "#     predicted_classes = np.argmax(np.round(predicted_classes),axis=1)\n",
    "    \n",
    "    \n",
    "# #     if predicted_classes==0: \n",
    "# #         cv2.putText(frame,\"Male\",(x,y),cv2.FONT_HERSHEY_SIMPLEX,3,(0,0,255),2)\n",
    "# #     else:\n",
    "# #         cv2.putText(frame,\"Female\",(x,y),cv2.FONT_HERSHEY_SIMPLEX,3,(0,0,255),2)\n",
    "        \n",
    "    \n",
    "#     # Display an original image \n",
    "#     cv2.imshow('Original',frame) \n",
    "    \n",
    "    \n",
    "#     # Wait for Esc key to stop \n",
    "#     k = cv2.waitKey(5) & 0xFF\n",
    "#     if k == 27: \n",
    "#         break\n",
    "  \n",
    "  \n",
    "\n",
    "# cap.release() \n",
    "  \n",
    "# # De-allocate any associated memory usage \n",
    "# cv2.destroyAllWindows()    \n"
   ]
  },
  {
   "cell_type": "code",
   "execution_count": 65,
   "metadata": {},
   "outputs": [],
   "source": [
    "\n",
    "# import cv2\n",
    "# import numpy as np\n",
    "# from matplotlib import pyplot as plt\n",
    "# import faceRecognition as fr\n",
    "\n",
    "  \n",
    "# # capture frames from a camera \n",
    "# video = cv2.VideoCapture(0)    \n",
    "  \n",
    "# while True:\n",
    "#     ret,img = video.read()\n",
    "#     faces_detected, gray_img = fr.faceDetection(img)\n",
    "#     #faces=face_cascade.detectMultiScale(gray_img,1.3,5)\n",
    "\n",
    "\n",
    "#     #name={2:\"Yagnesh\",3:\"Yash Gnagar\",5:\"Ayush P\",6:\"jainam\",7:\"Het\",10:\"param\",11:\"Jay S\",13:\"Saloni\",14:\"Abhishek\",15:\"Nisarg\", 16:\"Shruti\",17:\"Raj\",20:\"Ritu\",21:\"Abhi\",23:\"Vihar\",25:\"Kahan\",26:\"Prashant\",27:\"Bhoomi\",28:\"kairav\",29:\"maharsh\",30:\"Ronak\",31:\"Malak\",34:\"Hitarth\",35:\"Harshil\",36:\"manav\",38:\"Dhruvi\",39:\"Umang\",40:\"Akash\",43:\"Haard\",44:\"yashH\",45:\"Lavina\",46:\"Dhyey\",47:\"Aashka\",52:\"Arpita\",54:\"Nihar\",55:\"Soham\",57:\"taha\",59:\"tanmay\",60:\"Chaitya\",61:\"Purvang\",62:\"Parth\",65:\"AayushS\",66:\"Hastin\",67:\"Priyam\",68:\"Parshwa\",69:\"Anupama\",71:\"Freya\",72:\"Jinisha\",73:\"Sid\",74:\"Tejas\",75:\"Harsh\",76:\"Prashashti\",77:\"Richa\",78:\"maulik\",79:\"Shakir\",80:\"Richa2\",81:\"Sidhhi\",82:\"Noname\",83:\"no name1\",84:\"no name2\",85:\"no name3\",86:\"no name4\",}#creating dictionary containing names for each label\n",
    "#     gender={0:\"Male\",1:\"Female\"}\n",
    "#     #emotion={1:\"Sad\",2:\"Happy\",3:\"Anger\",4:\"Disgust\"}\n",
    "\n",
    "\n",
    "#     for face in faces_detected:\n",
    "#         (x,y,w,h)=face\n",
    "#         roi_gray=gray_img[y:y+h,x:x+h]\n",
    "#         roi_gray_r = cv2.resize(roi_gray,(300,300))\n",
    "#         #print(face_recognizer.predict(roi_gray))\n",
    "#         print(face_recognizerGender.predict(roi_gray_r))\n",
    "#         #print(face_recognizer2.predict(roi_gray))\n",
    "#         #label,confidence=face_recognizer.predict(roi_gray)#predicting the label of given image\n",
    "#         labelG,confidenceG=face_recognizerGender.predict(roi_gray)#predicting the label of given image\n",
    "#         #label2,confidence2=face_recognizer2.predict(roi_gray)\n",
    "#         #print(\"confidence:\",confidence)\n",
    "#         #print(\"label:\",label)\n",
    "#         #\n",
    "#         print(\"confidence1:\",confidenceG)\n",
    "#         print(\"label1:\",labelG)\n",
    "#         #print(\"confidence2:\",confidence2)\n",
    "#         #print(\"label2:\",label2)\n",
    "#         fr.draw_rect(img,face)\n",
    "#         #predicted_name=name[label]\n",
    "#         predicted_gender = gender[labelG]\n",
    "#         #predicted_emotion=emotion[label2]\n",
    "#         # if(confidence>37):#If confidence more than 37 then don't print predicted face text on screen\n",
    "#         #     continue\n",
    "#         cv2.putText(img,predicted_gender,(x,y),cv2.FONT_HERSHEY_SIMPLEX,3,(0,0,255),2)\n",
    "#        # cv2.putText(img,predicted_name,(x,y),cv2.FONT_HERSHEY_SIMPLEX,3,(0,0,255),2)\n",
    "\n",
    "\n",
    "\n",
    "#     cv2.imshow(\"Face\",img)\n",
    "#     if cv2.waitKey(1)==ord('q'):\n",
    "#         break\n",
    "        \n",
    "        \n",
    "# video.release()\n",
    "# cv2.destroyAllWindows()\n"
   ]
  },
  {
   "cell_type": "code",
   "execution_count": 66,
   "metadata": {},
   "outputs": [],
   "source": [
    "       \n",
    "# video.release()\n",
    "# cv2.destroyAllWindows()"
   ]
  },
  {
   "cell_type": "code",
   "execution_count": null,
   "metadata": {},
   "outputs": [],
   "source": []
  },
  {
   "cell_type": "code",
   "execution_count": 67,
   "metadata": {},
   "outputs": [],
   "source": [
    "\n",
    "# from gtts import gTTS\n",
    "# import numpy as np\n",
    "# import cv2\n",
    "# import os\n",
    "# from keras.models import Model, Sequential\n",
    "# from keras.layers import Convolution2D, ZeroPadding2D, MaxPooling2D, Flatten, Dense, Dropout, Activation\n",
    "# from keras.preprocessing.image import load_img, img_to_array\n",
    "# from keras.applications.imagenet_utils import preprocess_input\n",
    "# from keras.preprocessing import image\n",
    "# from os import listdir\n",
    "\n",
    "# color = (67, 67, 67)\n",
    "# face_cascade = cv2.CascadeClassifier('haarcascade_frontalface_alt.xml')\n",
    "\n",
    "\n",
    "# def preprocess_image(image_path):\n",
    "#     img = load_img(image_path, target_size=(224, 224))\n",
    "#     img = img_to_array(img)\n",
    "#     img = np.expand_dims(img, axis=0)\n",
    "#     img = preprocess_input(img)\n",
    "#     return img\n",
    "\n",
    "# def loadVggModel():\n",
    "#     model = Sequential()\n",
    "#     model.add(ZeroPadding2D((1, 1), input_shape=(224, 224, 3)))\n",
    "#     model.add(Convolution2D(64, (3, 3), activation='relu'))\n",
    "#     model.add(ZeroPadding2D((1, 1)))\n",
    "#     model.add(Convolution2D(64, (3, 3), activation='relu'))\n",
    "#     model.add(MaxPooling2D((2, 2), strides=(2, 2)))\n",
    "\n",
    "#     model.add(ZeroPadding2D((1, 1)))\n",
    "#     model.add(Convolution2D(128, (3, 3), activation='relu'))\n",
    "#     model.add(ZeroPadding2D((1, 1)))\n",
    "#     model.add(Convolution2D(128, (3, 3), activation='relu'))\n",
    "#     model.add(MaxPooling2D((2, 2), strides=(2, 2)))\n",
    "\n",
    "#     model.add(ZeroPadding2D((1, 1)))\n",
    "#     model.add(Convolution2D(256, (3, 3), activation='relu'))\n",
    "#     model.add(ZeroPadding2D((1, 1)))\n",
    "#     model.add(Convolution2D(256, (3, 3), activation='relu'))\n",
    "#     model.add(ZeroPadding2D((1, 1)))\n",
    "#     model.add(Convolution2D(256, (3, 3), activation='relu'))\n",
    "#     model.add(MaxPooling2D((2, 2), strides=(2, 2)))\n",
    "\n",
    "#     model.add(ZeroPadding2D((1, 1)))\n",
    "#     model.add(Convolution2D(512, (3, 3), activation='relu'))\n",
    "#     model.add(ZeroPadding2D((1, 1)))\n",
    "#     model.add(Convolution2D(512, (3, 3), activation='relu'))\n",
    "#     model.add(ZeroPadding2D((1, 1)))\n",
    "#     model.add(Convolution2D(512, (3, 3), activation='relu'))\n",
    "#     model.add(MaxPooling2D((2, 2), strides=(2, 2)))\n",
    "\n",
    "#     model.add(ZeroPadding2D((1, 1)))\n",
    "#     model.add(Convolution2D(512, (3, 3), activation='relu'))\n",
    "#     model.add(ZeroPadding2D((1, 1)))\n",
    "#     model.add(Convolution2D(512, (3, 3), activation='relu'))\n",
    "#     model.add(ZeroPadding2D((1, 1)))\n",
    "#     model.add(Convolution2D(512, (3, 3), activation='relu'))\n",
    "#     model.add(MaxPooling2D((2, 2), strides=(2, 2)))\n",
    "\n",
    "#     model.add(Convolution2D(4096, (7, 7), activation='relu'))\n",
    "#     model.add(Dropout(0.5))\n",
    "#     model.add(Convolution2D(4096, (1, 1), activation='relu'))\n",
    "#     model.add(Dropout(0.5))\n",
    "#     model.add(Convolution2D(2622, (1, 1)))\n",
    "#     model.add(Flatten())\n",
    "#     model.add(Activation('softmax'))\n",
    "\n",
    "#     model.load_weights(r'vgg_face_weights.h5')\n",
    "\n",
    "#     vgg_face_descriptor = Model(inputs=model.layers[0].input, outputs=model.layers[-2].output)\n",
    "\n",
    "#     return vgg_face_descriptor\n",
    "\n",
    "\n",
    "# employee_pictures = \"Dataset/TData\"\n",
    "# model = loadVggModel()\n",
    "# #model = load_model('myModel.h5')\n",
    "\n",
    "\n",
    "# employees = dict()\n",
    "# dir = listdir(employee_pictures)\n",
    "# for file in listdir(employee_pictures):\n",
    "#     employee, extension = file.split(\".\")\n",
    "#     if employee == 'desktop':\n",
    "#         employees[employee] = model.predict(preprocess_image('Dataset/TData/%s.png' % (employee)))[0, :]\n",
    "\n",
    "# print(\"employee representations retrieved successfully\")\n",
    "# model.compile(loss='binary_crossentropy', optimizer='adam', metrics=['accuracy'])\n",
    "\n",
    "# np.save('Dataset.npy',employees)\n",
    "# #employees = np.load('Dataset.npy')\n",
    "# model.save('myModel.h5')\n",
    "\n",
    "\n",
    "\n",
    "# def findCosineSimilarity(source_representation, test_representation):\n",
    "#     a = np.matmul(np.transpose(source_representation), test_representation)\n",
    "#     b = np.sum(np.multiply(source_representation, source_representation))\n",
    "#     c = np.sum(np.multiply(test_representation, test_representation))\n",
    "#     return 1 - (a / (np.sqrt(b) * np.sqrt(c)))\n",
    "# # ------------------------\n",
    "\n",
    "# cap = cv2.VideoCapture(0)  # webcam\n",
    "\n",
    "# while (True):\n",
    "#     ret, img = cap.read()\n",
    "#     # img = cv2.resize(img, (640, 360))\n",
    "#     faces = face_cascade.detectMultiScale(img, 1.3, 5)\n",
    "\n",
    "#     for (x, y, w, h) in faces:\n",
    "#         if w > 130:\n",
    "#             cv2.rectangle(img,(x,y),(x+w,y+h),(255,0,0),2) #draw rectangle to main image\n",
    "\n",
    "#             detected_face = img[int(y):int(y + h), int(x):int(x + w)]  # crop detected face\n",
    "#             detected_face = cv2.resize(detected_face, (224, 224))  # resize to 224x224\n",
    "\n",
    "#             img_pixels = image.img_to_array(detected_face)\n",
    "#             img_pixels = np.expand_dims(img_pixels, axis=0)\n",
    "#             img_pixels /= 255\n",
    "\n",
    "#             captured_representation = model.predict(img_pixels)[0, :]\n",
    "#             found = 0\n",
    "#             for i in employees:\n",
    "#                 employee_name = i\n",
    "#                 representation = employees[i]\n",
    "\n",
    "#                 similarity = findCosineSimilarity(representation, captured_representation)\n",
    "#                 rollNo = employee_name.split('_')[0]\n",
    "#                 gender = employee_name.split('_')[1]\n",
    "#                 emotion = employee_name.split('_')[2]\n",
    "#                 text = rollNo + gender + emotion\n",
    "\n",
    "#                 if (similarity < 0.30):\n",
    "#                     if emotion=='Anger':\n",
    "#                         color = (0, 0, 255)\n",
    "#                     elif emotion == 'Happy':\n",
    "#                         color = (0, 255, 0)\n",
    "#                     elif emotion == 'Neutral':\n",
    "#                         color = (255, 0, 0)\n",
    "#                     elif emotion == 'Fear':\n",
    "#                         color = (128, 0, 0)\n",
    "#                     elif emotion == 'Disgust':\n",
    "#                         color = (128, 128, 0)\n",
    "#                     elif emotion == 'Surprise':\n",
    "#                         color = (255, 255, 0)\n",
    "#                     elif emotion == 'Sad':\n",
    "#                         color = (128, 128, 128)\n",
    "\n",
    "#                     \"\"\"\"\n",
    "#                     language='en'\n",
    "#                     speech = gTTS(text=text, lang=language, slow=False)\n",
    "#                     speech.save('Recognised.mp3')\n",
    "#                     os.system('start Recognised.mp3')\n",
    "#                     \"\"\"\n",
    "\n",
    "#                     cv2.putText(img, (employee_name.split('_')[0]), (int(x + w + 15), int(y - 10)), cv2.FONT_HERSHEY_SIMPLEX, 1, color, 2)\n",
    "#                     cv2.putText(img, (employee_name.split('_')[1]), (int(x + w + 15), int(y - 35)), cv2.FONT_HERSHEY_SIMPLEX, 1, color, 2)\n",
    "#                     cv2.putText(img, (employee_name.split('_')[2]), (int(x + w + 15), int(y - 60)), cv2.FONT_HERSHEY_SIMPLEX, 1, color, 2)\n",
    "#                     found = 1\n",
    "#                     isRecording = False\n",
    "#                     break\n",
    "#             # connect face and text\n",
    "#             cv2.line(img, (int((x + x + w) / 2), y + 15), (x + w, y - 20), color, 1)\n",
    "#             cv2.line(img, (x + w, y - 20), (x + w + 10, y - 20), color, 1)\n",
    "\n",
    "#             if (found == 0):  # if found image is not in employee database\n",
    "#                 cv2.putText(img, 'unknown', (int(x + w + 15), int(y - 12)), cv2.FONT_HERSHEY_SIMPLEX, 1, color, 2)\n",
    "#     cv2.imshow('img', img)\n",
    "\n",
    "#     if cv2.waitKey(1) & 0xFF == ord('c'):  # Continue\n",
    "#         isRecording = True\n",
    "\n",
    "#     if cv2.waitKey(1) & 0xFF == ord('q'):  # press q to quit\n",
    "#         break\n",
    "\n",
    "# # kill open cv things\n",
    "# cap.release()\n",
    "# cv2.destroyAllWindows()"
   ]
  },
  {
   "cell_type": "code",
   "execution_count": null,
   "metadata": {},
   "outputs": [],
   "source": []
  }
 ],
 "metadata": {
  "colab": {
   "name": "CNN with Keras.ipynb",
   "provenance": [],
   "version": "0.3.2"
  },
  "kernelspec": {
   "display_name": "Python 3",
   "language": "python",
   "name": "python3"
  },
  "language_info": {
   "codemirror_mode": {
    "name": "ipython",
    "version": 3
   },
   "file_extension": ".py",
   "mimetype": "text/x-python",
   "name": "python",
   "nbconvert_exporter": "python",
   "pygments_lexer": "ipython3",
   "version": "3.7.1"
  }
 },
 "nbformat": 4,
 "nbformat_minor": 1
}
